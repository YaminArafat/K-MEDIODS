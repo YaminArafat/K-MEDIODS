{
 "cells": [
  {
   "cell_type": "code",
   "execution_count": 1,
   "metadata": {},
   "outputs": [],
   "source": [
    "import numpy as np"
   ]
  },
  {
   "cell_type": "code",
   "execution_count": 2,
   "metadata": {},
   "outputs": [],
   "source": [
    "X=np.array([[7,6],[6.5,5],[3,9],[6,1],[4.5,4],[1.3,7],[3,2],[7,6],[9,0],[8,9],[1,2]])"
   ]
  },
  {
   "cell_type": "code",
   "execution_count": 3,
   "metadata": {},
   "outputs": [],
   "source": [
    "X1=np.array([[7,6],[2,6],[3,8],[8,5],[7,4],[4,7],[6,2],[7,3],[6,4],[3,4]])"
   ]
  },
  {
   "cell_type": "code",
   "execution_count": 4,
   "metadata": {},
   "outputs": [],
   "source": [
    "X2=np.array([[1,2],[9,0],[4.5,4.5],[6.5,5],[3,9],[6,1],[1.3,7],[3,2],[7,6],[8,9]])\n"
   ]
  },
  {
   "cell_type": "code",
   "execution_count": 5,
   "metadata": {},
   "outputs": [],
   "source": [
    "class k_mediods:\n",
    "    def __init__(self,k=3,maxiter=150):           # total number of clusters=3 \n",
    "        self.k=k\n",
    "        self.maxiter=maxiter\n",
    "    \n",
    "    def fit(self,data):\n",
    "        \n",
    "        # For 1st clustering\n",
    "        self.medoids=[]\n",
    "        self.cost=0\n",
    "        clusters=[]                             \n",
    "        for i in range(self.k):\n",
    "            self.medoids.append(data[i])          # selecting k random points out of the dataset as the mediods (1st step)\n",
    "        for j in range(self.k):\n",
    "            clusters.append([]) \n",
    "            \n",
    "        for point in data: \n",
    "            # list containing distances of each point in the dataset from the mediods and finding minimum distance\n",
    "            distance=[(abs((point-m)).sum()) for m in self.medoids]\n",
    "            min_distance=min(distance)\n",
    "            # calculating the cost (cost is the distance of each point from its mediod i.e., total of min distances) \n",
    "            self.cost+=min_distance\n",
    "            o=distance.index(min_distance)\n",
    "            # clustering (i.e., associating each point to the closest mediod)\n",
    "            clusters[o].append(point)\n",
    "\n",
    "        \n",
    "        # now, at each iteration we are finding the replacement of our mediods\n",
    "        # we will stop on reaching the max no. of iteration or if there is no changes in the cost\n",
    "        for i in range(self.maxiter):\n",
    "            # lists that will store new clusters, new cost and the new mediods \n",
    "            new_clusters=[]\n",
    "            self.new_cost=0\n",
    "            self.new_medoids=[]\n",
    "            for j in range(self.k):\n",
    "                new_clusters.append([])\n",
    " \n",
    "            for j in range(self.k):\n",
    "                # list for storing the total distance of a particular point from all other points in the same cluster\n",
    "                dist_with_each_point_in_same_cluster=[]\n",
    "                l=[]         # list for storing the distance of each and every point from all other points of the same cluster\n",
    "                for point in clusters[j]:\n",
    "                    dist_with_each_point_in_same_cluster=sum([(abs(d-point).sum()) for d in clusters[j]])\n",
    "                    l.append(dist_with_each_point_in_same_cluster)\n",
    "                minima=min(l)    # finding the minimum distance \n",
    "                q=l.index(minima)\n",
    "                # point with the min distance from all the points in the same cluster is taken as the new mediod\n",
    "                self.new_medoids.append(clusters[j][q])     \n",
    "            \n",
    "            # now, finding the new clustering and the new cost\n",
    "            for point in data:\n",
    "                # list containing distances of each point in the dataset from the new mediods and finding minimum distance\n",
    "                distance=[(abs((point-m)).sum()) for m in self.new_medoids]\n",
    "                min_distance=min(distance)\n",
    "                # calculating the new cost\n",
    "                self.new_cost+=min_distance\n",
    "                o=distance.index(min_distance)\n",
    "                # new clustering\n",
    "                new_clusters[o].append(point)\n",
    "\n",
    "            # if the cost decreases with the new mediods we will replace the old mediods, old clusters and the old cost with the new one\n",
    "            # if the cost increases with the new mediods we will not replace the old mediods, old clusters and the oldcost with the new one\n",
    "            if self.new_cost < self.cost:   \n",
    "                self.medoids=self.new_medoids\n",
    "                clusters=new_clusters\n",
    "                self.cost=self.new_cost\n",
    "            \n",
    "            # if the cost remains same we will stop and come out of the iterations\n",
    "            elif self.new_cost == self.cost:\n",
    "                break\n",
    "                \n",
    "    # final clustering according to the new mediods\n",
    "    def predict(self,test_data):\n",
    "        pred=[]\n",
    "        for point in test_data:\n",
    "            # finding distance of each point from the final mediods and get the min distance\n",
    "            distance= [abs((point-m).sum()) for m in self.medoids]\n",
    "            minDistance= min(distance)\n",
    "            l= distance.index(minDistance)\n",
    "            pred.append(l)        # associating each point to the closest mediod \n",
    "        return pred\n"
   ]
  },
  {
   "cell_type": "code",
   "execution_count": 6,
   "metadata": {},
   "outputs": [],
   "source": [
    "kmed= k_mediods()"
   ]
  },
  {
   "cell_type": "code",
   "execution_count": 7,
   "metadata": {},
   "outputs": [],
   "source": [
    "kmed.fit(X)"
   ]
  },
  {
   "cell_type": "code",
   "execution_count": 8,
   "metadata": {},
   "outputs": [
    {
     "data": {
      "text/plain": [
       "[0, 2, 2, 1, 1, 1, 1, 0, 1, 0, 1]"
      ]
     },
     "execution_count": 8,
     "metadata": {},
     "output_type": "execute_result"
    }
   ],
   "source": [
    "kmed.predict(X)"
   ]
  },
  {
   "cell_type": "code",
   "execution_count": 9,
   "metadata": {},
   "outputs": [],
   "source": [
    "kmed.fit(X1)"
   ]
  },
  {
   "cell_type": "code",
   "execution_count": 10,
   "metadata": {},
   "outputs": [
    {
     "data": {
      "text/plain": [
       "[0, 1, 0, 0, 0, 0, 1, 0, 0, 1]"
      ]
     },
     "execution_count": 10,
     "metadata": {},
     "output_type": "execute_result"
    }
   ],
   "source": [
    "kmed.predict(X1)"
   ]
  },
  {
   "cell_type": "code",
   "execution_count": 11,
   "metadata": {},
   "outputs": [],
   "source": [
    "kmed.fit(X2)"
   ]
  },
  {
   "cell_type": "code",
   "execution_count": 12,
   "metadata": {},
   "outputs": [
    {
     "data": {
      "text/plain": [
       "[0, 1, 1, 2, 2, 1, 1, 0, 2, 2]"
      ]
     },
     "execution_count": 12,
     "metadata": {},
     "output_type": "execute_result"
    }
   ],
   "source": [
    "kmed.predict(X2)"
   ]
  },
  {
   "cell_type": "code",
   "execution_count": null,
   "metadata": {},
   "outputs": [],
   "source": []
  }
 ],
 "metadata": {
  "kernelspec": {
   "display_name": "Python 3",
   "language": "python",
   "name": "python3"
  },
  "language_info": {
   "codemirror_mode": {
    "name": "ipython",
    "version": 3
   },
   "file_extension": ".py",
   "mimetype": "text/x-python",
   "name": "python",
   "nbconvert_exporter": "python",
   "pygments_lexer": "ipython3",
   "version": "3.7.3"
  }
 },
 "nbformat": 4,
 "nbformat_minor": 2
}
